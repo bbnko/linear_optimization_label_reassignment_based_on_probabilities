{
 "cells": [
  {
   "cell_type": "markdown",
   "metadata": {},
   "source": [
    "# Linear Optimization - Label Reassignment based on predicted probabilities\n",
    "### Provided dataset contains simulated records of users' self-reported pet ownership labels and their purchasing activity.\n",
    "### Some users seem to behave differently from what their label says, thus we suspect that their self-reported label is incorrect.\n",
    "### Incorrect labels create inconsistencies between behavior and assignment and thus need to be corrected.\n",
    "### However, at the same time, we would like to preserve the composition of our user set, ensuring that the proportions of 0/1 labels remains the same."
   ]
  },
  {
   "cell_type": "markdown",
   "metadata": {},
   "source": [
    "# Libraries and Paths"
   ]
  },
  {
   "cell_type": "code",
   "execution_count": 1,
   "metadata": {},
   "outputs": [],
   "source": [
    "#General data-handling libraries\n",
    "import pandas as pd\n",
    "import numpy as np\n",
    "\n",
    "#Machine learning libraries\n",
    "from sklearn.linear_model import LogisticRegression \n",
    "from sklearn.model_selection import train_test_split\n",
    "from sklearn.metrics import classification_report,confusion_matrix, f1_score\n",
    "from sklearn.metrics import ConfusionMatrixDisplay\n",
    "\n",
    "#Optimization libraries\n",
    "from ortools.linear_solver import pywraplp\n",
    "\n",
    "#Visualization libraries\n",
    "import matplotlib.pyplot as plt\n",
    "import seaborn as sns\n",
    "sns.set_style('darkgrid')"
   ]
  },
  {
   "cell_type": "markdown",
   "metadata": {},
   "source": [
    "# Reading in the data"
   ]
  },
  {
   "cell_type": "code",
   "execution_count": 2,
   "metadata": {},
   "outputs": [
    {
     "data": {
      "text/html": [
       "<div>\n",
       "<style scoped>\n",
       "    .dataframe tbody tr th:only-of-type {\n",
       "        vertical-align: middle;\n",
       "    }\n",
       "\n",
       "    .dataframe tbody tr th {\n",
       "        vertical-align: top;\n",
       "    }\n",
       "\n",
       "    .dataframe thead th {\n",
       "        text-align: right;\n",
       "    }\n",
       "</style>\n",
       "<table border=\"1\" class=\"dataframe\">\n",
       "  <thead>\n",
       "    <tr style=\"text-align: right;\">\n",
       "      <th></th>\n",
       "      <th>user_id</th>\n",
       "      <th>pet_ownership_label</th>\n",
       "      <th>dry_food_purchases</th>\n",
       "      <th>wet_food_purchases</th>\n",
       "      <th>treats_purchases</th>\n",
       "    </tr>\n",
       "  </thead>\n",
       "  <tbody>\n",
       "    <tr>\n",
       "      <th>0</th>\n",
       "      <td>user_0</td>\n",
       "      <td>1</td>\n",
       "      <td>2.6</td>\n",
       "      <td>3.4</td>\n",
       "      <td>6.1</td>\n",
       "    </tr>\n",
       "    <tr>\n",
       "      <th>1</th>\n",
       "      <td>user_1</td>\n",
       "      <td>1</td>\n",
       "      <td>2.0</td>\n",
       "      <td>0.0</td>\n",
       "      <td>1.0</td>\n",
       "    </tr>\n",
       "    <tr>\n",
       "      <th>2</th>\n",
       "      <td>user_2</td>\n",
       "      <td>1</td>\n",
       "      <td>1.1</td>\n",
       "      <td>1.0</td>\n",
       "      <td>1.7</td>\n",
       "    </tr>\n",
       "    <tr>\n",
       "      <th>3</th>\n",
       "      <td>user_3</td>\n",
       "      <td>1</td>\n",
       "      <td>1.1</td>\n",
       "      <td>1.0</td>\n",
       "      <td>1.2</td>\n",
       "    </tr>\n",
       "    <tr>\n",
       "      <th>4</th>\n",
       "      <td>user_4</td>\n",
       "      <td>1</td>\n",
       "      <td>1.8</td>\n",
       "      <td>1.0</td>\n",
       "      <td>1.0</td>\n",
       "    </tr>\n",
       "  </tbody>\n",
       "</table>\n",
       "</div>"
      ],
      "text/plain": [
       "  user_id  pet_ownership_label  dry_food_purchases  wet_food_purchases  \\\n",
       "0  user_0                    1                 2.6                 3.4   \n",
       "1  user_1                    1                 2.0                 0.0   \n",
       "2  user_2                    1                 1.1                 1.0   \n",
       "3  user_3                    1                 1.1                 1.0   \n",
       "4  user_4                    1                 1.8                 1.0   \n",
       "\n",
       "   treats_purchases  \n",
       "0               6.1  \n",
       "1               1.0  \n",
       "2               1.7  \n",
       "3               1.2  \n",
       "4               1.0  "
      ]
     },
     "execution_count": 2,
     "metadata": {},
     "output_type": "execute_result"
    }
   ],
   "source": [
    "#Reading in the dataset\n",
    "df = pd.read_csv('optimization_data.csv')\n",
    "\n",
    "#Checking the dataset head\n",
    "df.head()"
   ]
  },
  {
   "cell_type": "code",
   "execution_count": 3,
   "metadata": {},
   "outputs": [
    {
     "data": {
      "text/html": [
       "<div>\n",
       "<style scoped>\n",
       "    .dataframe tbody tr th:only-of-type {\n",
       "        vertical-align: middle;\n",
       "    }\n",
       "\n",
       "    .dataframe tbody tr th {\n",
       "        vertical-align: top;\n",
       "    }\n",
       "\n",
       "    .dataframe thead th {\n",
       "        text-align: right;\n",
       "    }\n",
       "</style>\n",
       "<table border=\"1\" class=\"dataframe\">\n",
       "  <thead>\n",
       "    <tr style=\"text-align: right;\">\n",
       "      <th></th>\n",
       "      <th>user_id</th>\n",
       "      <th>pet_ownership_label</th>\n",
       "      <th>dry_food_purchases</th>\n",
       "      <th>wet_food_purchases</th>\n",
       "      <th>treats_purchases</th>\n",
       "    </tr>\n",
       "  </thead>\n",
       "  <tbody>\n",
       "    <tr>\n",
       "      <th>67</th>\n",
       "      <td>user_67</td>\n",
       "      <td>1</td>\n",
       "      <td>0.0</td>\n",
       "      <td>0.0</td>\n",
       "      <td>0.0</td>\n",
       "    </tr>\n",
       "  </tbody>\n",
       "</table>\n",
       "</div>"
      ],
      "text/plain": [
       "    user_id  pet_ownership_label  dry_food_purchases  wet_food_purchases  \\\n",
       "67  user_67                    1                 0.0                 0.0   \n",
       "\n",
       "    treats_purchases  \n",
       "67               0.0  "
      ]
     },
     "execution_count": 3,
     "metadata": {},
     "output_type": "execute_result"
    }
   ],
   "source": [
    "#Below example is a user that has reported pet ownership, but has not purhcased any pet-related products. \n",
    "#Possibly the label is outdated and the user is no longer a pet owner. Cases like this need to be addressed, since they are creating inconsistencies on aggregated levels.\n",
    "df[df['user_id'] == 'user_67']"
   ]
  },
  {
   "cell_type": "markdown",
   "metadata": {},
   "source": [
    "# Prediction of ownership probability"
   ]
  },
  {
   "cell_type": "code",
   "execution_count": 4,
   "metadata": {},
   "outputs": [],
   "source": [
    "# Setting up a Logistic Regression Model to predict ownership probability:\n",
    "# Note: below model parameters have been established after a series of cross-validation k-fold runs\n",
    "\n",
    "## Splitting the dataset into features and targets\n",
    "df_target = df['pet_ownership_label'].values\n",
    "df_feat = df.drop(columns='pet_ownership_label')\n",
    "\n",
    "## Splitting the data into train and test\n",
    "X_train, X_test, y_train, y_test = train_test_split(df_feat, df_target, test_size=0.33)\n",
    "\n",
    "## Preserving IDs and dropping them from features\n",
    "train_ids = X_train['user_id'].values\n",
    "test_ids = X_test['user_id'].values\n",
    "X_train = X_train.drop(columns='user_id')\n",
    "X_test = X_test.drop(columns='user_id')"
   ]
  },
  {
   "cell_type": "code",
   "execution_count": 5,
   "metadata": {},
   "outputs": [
    {
     "data": {
      "text/html": [
       "<style>#sk-container-id-1 {color: black;}#sk-container-id-1 pre{padding: 0;}#sk-container-id-1 div.sk-toggleable {background-color: white;}#sk-container-id-1 label.sk-toggleable__label {cursor: pointer;display: block;width: 100%;margin-bottom: 0;padding: 0.3em;box-sizing: border-box;text-align: center;}#sk-container-id-1 label.sk-toggleable__label-arrow:before {content: \"▸\";float: left;margin-right: 0.25em;color: #696969;}#sk-container-id-1 label.sk-toggleable__label-arrow:hover:before {color: black;}#sk-container-id-1 div.sk-estimator:hover label.sk-toggleable__label-arrow:before {color: black;}#sk-container-id-1 div.sk-toggleable__content {max-height: 0;max-width: 0;overflow: hidden;text-align: left;background-color: #f0f8ff;}#sk-container-id-1 div.sk-toggleable__content pre {margin: 0.2em;color: black;border-radius: 0.25em;background-color: #f0f8ff;}#sk-container-id-1 input.sk-toggleable__control:checked~div.sk-toggleable__content {max-height: 200px;max-width: 100%;overflow: auto;}#sk-container-id-1 input.sk-toggleable__control:checked~label.sk-toggleable__label-arrow:before {content: \"▾\";}#sk-container-id-1 div.sk-estimator input.sk-toggleable__control:checked~label.sk-toggleable__label {background-color: #d4ebff;}#sk-container-id-1 div.sk-label input.sk-toggleable__control:checked~label.sk-toggleable__label {background-color: #d4ebff;}#sk-container-id-1 input.sk-hidden--visually {border: 0;clip: rect(1px 1px 1px 1px);clip: rect(1px, 1px, 1px, 1px);height: 1px;margin: -1px;overflow: hidden;padding: 0;position: absolute;width: 1px;}#sk-container-id-1 div.sk-estimator {font-family: monospace;background-color: #f0f8ff;border: 1px dotted black;border-radius: 0.25em;box-sizing: border-box;margin-bottom: 0.5em;}#sk-container-id-1 div.sk-estimator:hover {background-color: #d4ebff;}#sk-container-id-1 div.sk-parallel-item::after {content: \"\";width: 100%;border-bottom: 1px solid gray;flex-grow: 1;}#sk-container-id-1 div.sk-label:hover label.sk-toggleable__label {background-color: #d4ebff;}#sk-container-id-1 div.sk-serial::before {content: \"\";position: absolute;border-left: 1px solid gray;box-sizing: border-box;top: 0;bottom: 0;left: 50%;z-index: 0;}#sk-container-id-1 div.sk-serial {display: flex;flex-direction: column;align-items: center;background-color: white;padding-right: 0.2em;padding-left: 0.2em;position: relative;}#sk-container-id-1 div.sk-item {position: relative;z-index: 1;}#sk-container-id-1 div.sk-parallel {display: flex;align-items: stretch;justify-content: center;background-color: white;position: relative;}#sk-container-id-1 div.sk-item::before, #sk-container-id-1 div.sk-parallel-item::before {content: \"\";position: absolute;border-left: 1px solid gray;box-sizing: border-box;top: 0;bottom: 0;left: 50%;z-index: -1;}#sk-container-id-1 div.sk-parallel-item {display: flex;flex-direction: column;z-index: 1;position: relative;background-color: white;}#sk-container-id-1 div.sk-parallel-item:first-child::after {align-self: flex-end;width: 50%;}#sk-container-id-1 div.sk-parallel-item:last-child::after {align-self: flex-start;width: 50%;}#sk-container-id-1 div.sk-parallel-item:only-child::after {width: 0;}#sk-container-id-1 div.sk-dashed-wrapped {border: 1px dashed gray;margin: 0 0.4em 0.5em 0.4em;box-sizing: border-box;padding-bottom: 0.4em;background-color: white;}#sk-container-id-1 div.sk-label label {font-family: monospace;font-weight: bold;display: inline-block;line-height: 1.2em;}#sk-container-id-1 div.sk-label-container {text-align: center;}#sk-container-id-1 div.sk-container {/* jupyter's `normalize.less` sets `[hidden] { display: none; }` but bootstrap.min.css set `[hidden] { display: none !important; }` so we also need the `!important` here to be able to override the default hidden behavior on the sphinx rendered scikit-learn.org. See: https://github.com/scikit-learn/scikit-learn/issues/21755 */display: inline-block !important;position: relative;}#sk-container-id-1 div.sk-text-repr-fallback {display: none;}</style><div id=\"sk-container-id-1\" class=\"sk-top-container\"><div class=\"sk-text-repr-fallback\"><pre>LogisticRegression(l1_ratio=1.0, max_iter=10000, penalty=&#x27;elasticnet&#x27;,\n",
       "                   solver=&#x27;saga&#x27;)</pre><b>In a Jupyter environment, please rerun this cell to show the HTML representation or trust the notebook. <br />On GitHub, the HTML representation is unable to render, please try loading this page with nbviewer.org.</b></div><div class=\"sk-container\" hidden><div class=\"sk-item\"><div class=\"sk-estimator sk-toggleable\"><input class=\"sk-toggleable__control sk-hidden--visually\" id=\"sk-estimator-id-1\" type=\"checkbox\" checked><label for=\"sk-estimator-id-1\" class=\"sk-toggleable__label sk-toggleable__label-arrow\">LogisticRegression</label><div class=\"sk-toggleable__content\"><pre>LogisticRegression(l1_ratio=1.0, max_iter=10000, penalty=&#x27;elasticnet&#x27;,\n",
       "                   solver=&#x27;saga&#x27;)</pre></div></div></div></div></div>"
      ],
      "text/plain": [
       "LogisticRegression(l1_ratio=1.0, max_iter=10000, penalty='elasticnet',\n",
       "                   solver='saga')"
      ]
     },
     "execution_count": 5,
     "metadata": {},
     "output_type": "execute_result"
    }
   ],
   "source": [
    "# Training the model\n",
    "model = LogisticRegression(l1_ratio=1.0, penalty='elasticnet', solver='saga', max_iter=10000)\n",
    "model.fit(X_train.values, y_train)"
   ]
  },
  {
   "cell_type": "code",
   "execution_count": 6,
   "metadata": {},
   "outputs": [
    {
     "name": "stdout",
     "output_type": "stream",
     "text": [
      "              precision    recall  f1-score   support\n",
      "\n",
      "           0       0.78      0.80      0.79       780\n",
      "           1       0.81      0.79      0.80       824\n",
      "\n",
      "    accuracy                           0.79      1604\n",
      "   macro avg       0.79      0.80      0.79      1604\n",
      "weighted avg       0.80      0.79      0.79      1604\n",
      "\n"
     ]
    }
   ],
   "source": [
    "# Predicting and checking the metrics\n",
    "y_pred = model.predict(X_test.values)\n",
    "print(classification_report(y_test,y_pred))"
   ]
  },
  {
   "cell_type": "code",
   "execution_count": 7,
   "metadata": {},
   "outputs": [
    {
     "name": "stdout",
     "output_type": "stream",
     "text": [
      "[[625 155]\n",
      " [174 650]]\n"
     ]
    }
   ],
   "source": [
    "# Checking confusion matrix\n",
    "cm = confusion_matrix(y_test,y_pred)\n",
    "print(cm)"
   ]
  },
  {
   "cell_type": "code",
   "execution_count": 8,
   "metadata": {},
   "outputs": [
    {
     "data": {
      "image/png": "[encoded data removed]",
      "text/plain": [
       "<Figure size 640x480 with 2 Axes>"
      ]
     },
     "metadata": {},
     "output_type": "display_data"
    }
   ],
   "source": [
    "# Checking confusion matrix plot\n",
    "disp = ConfusionMatrixDisplay(cm)\n",
    "disp.plot()\n",
    "plt.show()"
   ]
  },
  {
   "cell_type": "code",
   "execution_count": 9,
   "metadata": {},
   "outputs": [
    {
     "name": "stdout",
     "output_type": "stream",
     "text": [
      "              precision    recall  f1-score   support\n",
      "\n",
      "           0       0.49      0.47      0.48       780\n",
      "           1       0.52      0.53      0.53       824\n",
      "\n",
      "    accuracy                           0.50      1604\n",
      "   macro avg       0.50      0.50      0.50      1604\n",
      "weighted avg       0.50      0.50      0.50      1604\n",
      "\n",
      "prediction f1 macro:\n",
      "0.7948379416614085\n",
      "random f1 macro:\n",
      "0.5027387102201561\n"
     ]
    }
   ],
   "source": [
    "# Compraing the result with random assignment sampled from distribution\n",
    "## Getting distribution in Training set\n",
    "distr = pd.DataFrame() \n",
    "distr['distr'] = y_train\n",
    "distr = distr['distr'].value_counts().to_frame() \n",
    "distr_sum = distr['count'].sum()\n",
    "distr['distr'] = distr['count'] / distr_sum\n",
    "\n",
    "## Assigning labels at random based on the distribution\n",
    "test_size = len(y_test)\n",
    "random_pred = np.random.choice([0,1], size=test_size, p=[distr.at[0,'distr'], distr.at[1,'distr']])\n",
    "\n",
    "print(classification_report(y_test,random_pred))\n",
    "\n",
    "## Comparing the results\n",
    "print(\"prediction f1 macro:\")\n",
    "print(f1_score(y_test, y_pred, average='macro'))\n",
    "\n",
    "print(\"random f1 macro:\")\n",
    "print(f1_score(y_test, random_pred, average='macro'))"
   ]
  },
  {
   "cell_type": "code",
   "execution_count": 10,
   "metadata": {},
   "outputs": [
    {
     "name": "stderr",
     "output_type": "stream",
     "text": [
      "d:\\Program_Files\\Anaconda\\Lib\\site-packages\\seaborn\\axisgrid.py:118: UserWarning: The figure layout has changed to tight\n",
      "  self._figure.tight_layout(*args, **kwargs)\n"
     ]
    },
    {
     "data": {
      "image/png": "[encoded data removed]",
      "text/plain": [
       "<Figure size 500x500 with 1 Axes>"
      ]
     },
     "metadata": {},
     "output_type": "display_data"
    }
   ],
   "source": [
    "# Checking probability distributions post prediction\n",
    "don_prob_pred = [model.predict_proba(X_train.values)]\n",
    "df_don_prob_pred = pd.DataFrame(don_prob_pred[0], columns = ['pet_ownership_label_0', 'pet_ownership_label_1'])\n",
    "\n",
    "# Label 0\n",
    "sns.displot(df_don_prob_pred['pet_ownership_label_0'])\n",
    "lim = plt.xlim([0,1])\n",
    "ttl = plt.title(f'Probabilities of ownership = 0')\n",
    "plt.show()"
   ]
  },
  {
   "cell_type": "code",
   "execution_count": 11,
   "metadata": {},
   "outputs": [
    {
     "name": "stderr",
     "output_type": "stream",
     "text": [
      "d:\\Program_Files\\Anaconda\\Lib\\site-packages\\seaborn\\axisgrid.py:118: UserWarning: The figure layout has changed to tight\n",
      "  self._figure.tight_layout(*args, **kwargs)\n"
     ]
    },
    {
     "data": {
      "image/png": "[encoded data removed]",
      "text/plain": [
       "<Figure size 500x500 with 1 Axes>"
      ]
     },
     "metadata": {},
     "output_type": "display_data"
    }
   ],
   "source": [
    "# Label 1\n",
    "sns.displot(df_don_prob_pred['pet_ownership_label_1'])\n",
    "lim = plt.xlim([0,1])\n",
    "ttl = plt.title(f'Probabilities of ownership = 1')\n",
    "plt.show()"
   ]
  },
  {
   "cell_type": "code",
   "execution_count": 12,
   "metadata": {},
   "outputs": [],
   "source": [
    "# Predicting probabilities for the full data scope\n",
    "probs = [model.predict_proba(df_feat.drop(columns='user_id').values)]\n",
    "probs_df = pd.DataFrame(probs[0], columns = ['pet_ownership_label_0', 'pet_ownership_label_1'])\n",
    "df_for_optimization = df.copy()\n",
    "df_for_optimization[['pet_ownership_label_0', 'pet_ownership_label_1']] = probs_df[['pet_ownership_label_0', 'pet_ownership_label_1']]"
   ]
  },
  {
   "cell_type": "code",
   "execution_count": 13,
   "metadata": {},
   "outputs": [
    {
     "data": {
      "text/html": [
       "<div>\n",
       "<style scoped>\n",
       "    .dataframe tbody tr th:only-of-type {\n",
       "        vertical-align: middle;\n",
       "    }\n",
       "\n",
       "    .dataframe tbody tr th {\n",
       "        vertical-align: top;\n",
       "    }\n",
       "\n",
       "    .dataframe thead th {\n",
       "        text-align: right;\n",
       "    }\n",
       "</style>\n",
       "<table border=\"1\" class=\"dataframe\">\n",
       "  <thead>\n",
       "    <tr style=\"text-align: right;\">\n",
       "      <th></th>\n",
       "      <th>user_id</th>\n",
       "      <th>pet_ownership_label</th>\n",
       "      <th>dry_food_purchases</th>\n",
       "      <th>wet_food_purchases</th>\n",
       "      <th>treats_purchases</th>\n",
       "      <th>pet_ownership_label_0</th>\n",
       "      <th>pet_ownership_label_1</th>\n",
       "    </tr>\n",
       "  </thead>\n",
       "  <tbody>\n",
       "    <tr>\n",
       "      <th>0</th>\n",
       "      <td>user_0</td>\n",
       "      <td>1</td>\n",
       "      <td>2.6</td>\n",
       "      <td>3.4</td>\n",
       "      <td>6.1</td>\n",
       "      <td>0.000122</td>\n",
       "      <td>0.999878</td>\n",
       "    </tr>\n",
       "    <tr>\n",
       "      <th>1</th>\n",
       "      <td>user_1</td>\n",
       "      <td>1</td>\n",
       "      <td>2.0</td>\n",
       "      <td>0.0</td>\n",
       "      <td>1.0</td>\n",
       "      <td>0.080741</td>\n",
       "      <td>0.919259</td>\n",
       "    </tr>\n",
       "    <tr>\n",
       "      <th>2</th>\n",
       "      <td>user_2</td>\n",
       "      <td>1</td>\n",
       "      <td>1.1</td>\n",
       "      <td>1.0</td>\n",
       "      <td>1.7</td>\n",
       "      <td>0.115975</td>\n",
       "      <td>0.884025</td>\n",
       "    </tr>\n",
       "    <tr>\n",
       "      <th>3</th>\n",
       "      <td>user_3</td>\n",
       "      <td>1</td>\n",
       "      <td>1.1</td>\n",
       "      <td>1.0</td>\n",
       "      <td>1.2</td>\n",
       "      <td>0.171979</td>\n",
       "      <td>0.828021</td>\n",
       "    </tr>\n",
       "    <tr>\n",
       "      <th>4</th>\n",
       "      <td>user_4</td>\n",
       "      <td>1</td>\n",
       "      <td>1.8</td>\n",
       "      <td>1.0</td>\n",
       "      <td>1.0</td>\n",
       "      <td>0.080978</td>\n",
       "      <td>0.919022</td>\n",
       "    </tr>\n",
       "  </tbody>\n",
       "</table>\n",
       "</div>"
      ],
      "text/plain": [
       "  user_id  pet_ownership_label  dry_food_purchases  wet_food_purchases  \\\n",
       "0  user_0                    1                 2.6                 3.4   \n",
       "1  user_1                    1                 2.0                 0.0   \n",
       "2  user_2                    1                 1.1                 1.0   \n",
       "3  user_3                    1                 1.1                 1.0   \n",
       "4  user_4                    1                 1.8                 1.0   \n",
       "\n",
       "   treats_purchases  pet_ownership_label_0  pet_ownership_label_1  \n",
       "0               6.1               0.000122               0.999878  \n",
       "1               1.0               0.080741               0.919259  \n",
       "2               1.7               0.115975               0.884025  \n",
       "3               1.2               0.171979               0.828021  \n",
       "4               1.0               0.080978               0.919022  "
      ]
     },
     "execution_count": 13,
     "metadata": {},
     "output_type": "execute_result"
    }
   ],
   "source": [
    "# Checking the head of the dataframe\n",
    "df_for_optimization.head()"
   ]
  },
  {
   "cell_type": "markdown",
   "metadata": {},
   "source": [
    "# Linear Optimization (Label Reassignment)\n",
    "### Having predicted the ownership probabilities, now we need to re-assign labels using GLOP solver"
   ]
  },
  {
   "cell_type": "code",
   "execution_count": 14,
   "metadata": {},
   "outputs": [
    {
     "data": {
      "text/plain": [
       "pet_ownership_label\n",
       "1    0.522741\n",
       "0    0.477259\n",
       "Name: proportion, dtype: float64"
      ]
     },
     "execution_count": 14,
     "metadata": {},
     "output_type": "execute_result"
    }
   ],
   "source": [
    "# The goal is to maintain the current distribution of 0/1 labels, thus checking it below:\n",
    "df_for_optimization['pet_ownership_label'].value_counts(normalize=True)"
   ]
  },
  {
   "cell_type": "code",
   "execution_count": 15,
   "metadata": {},
   "outputs": [],
   "source": [
    "# Current proprotion of owners (label = 1) is 52.2%, thus let's set our thresholds to +- 0.5 pp of that\n",
    "target_upper_bound = 0.527\n",
    "target_lower_bound = 0.517"
   ]
  },
  {
   "cell_type": "code",
   "execution_count": 16,
   "metadata": {},
   "outputs": [],
   "source": [
    "# Defining cost function\n",
    "# We want to encourage statues quo by making it harder to flip users that have ownership probability close to 50%\n",
    "# Therefore, we define the below cost function:\n",
    "target_col = 'pet_ownership_label'\n",
    "df_for_optimization[f'{target_col}_no'] = 1 - df_for_optimization[target_col]\n",
    "df_for_optimization['cost_1'] = (1 - df_for_optimization[f'{target_col}_1']) / (1 + df_for_optimization[target_col])              #increases cost of flipping to 1 if current label is 0\n",
    "df_for_optimization['cost_0'] = (1 - df_for_optimization[f'{target_col}_0']) / (1 + df_for_optimization[f'{target_col}_no'])      #increases cost of flipping to 0 if current label is 1"
   ]
  },
  {
   "cell_type": "code",
   "execution_count": 17,
   "metadata": {},
   "outputs": [
    {
     "name": "stdout",
     "output_type": "stream",
     "text": [
      "Total cost = 651.3402029401649\n",
      "\n"
     ]
    }
   ],
   "source": [
    "# Defining the solver parameters\n",
    "target_upper_bound2 = int(len(df_for_optimization)*target_upper_bound)\n",
    "target_lower_bound2 = int(len(df_for_optimization)*target_lower_bound)\n",
    "df_for_optimization = df_for_optimization.reset_index(drop=False)\n",
    "\n",
    "# Defining the costs\n",
    "costs = df_for_optimization[['cost_0','cost_1']].values\n",
    "num_workers = len(costs)\n",
    "num_tasks = len(costs[0])\n",
    "\n",
    "# Initializing the solver\n",
    "solver = pywraplp.Solver.CreateSolver(\"GLOP\")\n",
    "\n",
    "# x[i, j] is an array of 0-1 variables, which will be 1\n",
    "# if user i is assigned to label j.\n",
    "x = {}\n",
    "for i in range(num_workers):\n",
    "    for j in range(num_tasks):\n",
    "        x[i, j] = solver.IntVar(0, 1, f\"{i}_{j}\")\n",
    "        \n",
    "# CONSTRAINTS        \n",
    "# Each user is assigned to at most 1 label.\n",
    "for i in range(num_workers):\n",
    "    solver.Add(solver.Sum([x[i, j] for j in range(num_tasks)]) == 1)\n",
    "\n",
    "# Maximum target constraint (label = 1)\n",
    "solver.Add(solver.Sum([x[i, 1] for i in range(num_workers)]) <= target_upper_bound2) #max target\n",
    "\n",
    "# Minimum target constraint (label = 1)\n",
    "solver.Add(solver.Sum([x[i, 1] for i in range(num_workers)]) >= target_lower_bound2) #min target\n",
    "\n",
    "objective_terms = []\n",
    "for i in range(num_workers):\n",
    "    for j in range(num_tasks):\n",
    "        objective_terms.append(costs[i][j] * x[i, j])\n",
    "solver.Minimize(solver.Sum(objective_terms))\n",
    "\n",
    "status = solver.Solve()\n",
    "\n",
    "list_worker = []\n",
    "list_value = []\n",
    "list_cost = []\n",
    "\n",
    "if status == pywraplp.Solver.OPTIMAL or status == pywraplp.Solver.FEASIBLE:\n",
    "    print(f\"Total cost = {solver.Objective().Value()}\\n\")\n",
    "    for i in range(num_workers):\n",
    "        for j in range(num_tasks):\n",
    "            # Test if x[i,j] is 1 (with tolerance for floating point arithmetic).\n",
    "            if x[i, j].solution_value() > 0.5:                \n",
    "                list_worker.append(i)\n",
    "                list_value.append(j)\n",
    "                list_cost.append(costs[i][j])\n",
    "else:\n",
    "    print(\"No solution found.\")\n",
    "\n",
    "# Adding the result to the dataframe    \n",
    "df_for_optimization_result = pd.DataFrame()\n",
    "df_for_optimization_result['index'] = list_worker\n",
    "df_for_optimization_result['assignment'] = list_value\n",
    "df_for_optimization_result['cost'] = list_cost\n",
    "\n",
    "\n",
    "df_for_optimization_post_optim = df_for_optimization.copy().merge(df_for_optimization_result, how='left', on='index')\n",
    "\n",
    "# Identifying users that were flipped\n",
    "def if_flipped(before, after):\n",
    "    if before == after:\n",
    "        return 'no'\n",
    "    else:\n",
    "        return f'{before}_>_{after}'\n",
    "\n",
    "df_for_optimization_post_optim['if_flipped'] = df_for_optimization_post_optim.apply(lambda x: if_flipped(x[target_col], x['assignment']), axis=1) "
   ]
  },
  {
   "cell_type": "markdown",
   "metadata": {},
   "source": [
    "# Checking the optimization results"
   ]
  },
  {
   "cell_type": "code",
   "execution_count": 18,
   "metadata": {},
   "outputs": [
    {
     "data": {
      "text/html": [
       "<div>\n",
       "<style scoped>\n",
       "    .dataframe tbody tr th:only-of-type {\n",
       "        vertical-align: middle;\n",
       "    }\n",
       "\n",
       "    .dataframe tbody tr th {\n",
       "        vertical-align: top;\n",
       "    }\n",
       "\n",
       "    .dataframe thead th {\n",
       "        text-align: right;\n",
       "    }\n",
       "</style>\n",
       "<table border=\"1\" class=\"dataframe\">\n",
       "  <thead>\n",
       "    <tr style=\"text-align: right;\">\n",
       "      <th></th>\n",
       "      <th>user_id</th>\n",
       "      <th>pet_ownership_label</th>\n",
       "      <th>pet_ownership_label_1</th>\n",
       "      <th>assignment</th>\n",
       "      <th>if_flipped</th>\n",
       "    </tr>\n",
       "  </thead>\n",
       "  <tbody>\n",
       "    <tr>\n",
       "      <th>2104</th>\n",
       "      <td>user_2104</td>\n",
       "      <td>1</td>\n",
       "      <td>0.648977</td>\n",
       "      <td>1</td>\n",
       "      <td>no</td>\n",
       "    </tr>\n",
       "    <tr>\n",
       "      <th>1152</th>\n",
       "      <td>user_1152</td>\n",
       "      <td>1</td>\n",
       "      <td>0.720075</td>\n",
       "      <td>1</td>\n",
       "      <td>no</td>\n",
       "    </tr>\n",
       "    <tr>\n",
       "      <th>1402</th>\n",
       "      <td>user_1402</td>\n",
       "      <td>1</td>\n",
       "      <td>0.738217</td>\n",
       "      <td>1</td>\n",
       "      <td>no</td>\n",
       "    </tr>\n",
       "    <tr>\n",
       "      <th>2344</th>\n",
       "      <td>user_2344</td>\n",
       "      <td>0</td>\n",
       "      <td>0.964265</td>\n",
       "      <td>1</td>\n",
       "      <td>0_&gt;_1</td>\n",
       "    </tr>\n",
       "    <tr>\n",
       "      <th>4667</th>\n",
       "      <td>user_4668</td>\n",
       "      <td>0</td>\n",
       "      <td>0.525121</td>\n",
       "      <td>0</td>\n",
       "      <td>no</td>\n",
       "    </tr>\n",
       "    <tr>\n",
       "      <th>2172</th>\n",
       "      <td>user_2172</td>\n",
       "      <td>1</td>\n",
       "      <td>0.188230</td>\n",
       "      <td>0</td>\n",
       "      <td>1_&gt;_0</td>\n",
       "    </tr>\n",
       "    <tr>\n",
       "      <th>421</th>\n",
       "      <td>user_421</td>\n",
       "      <td>0</td>\n",
       "      <td>0.188230</td>\n",
       "      <td>0</td>\n",
       "      <td>no</td>\n",
       "    </tr>\n",
       "    <tr>\n",
       "      <th>2631</th>\n",
       "      <td>user_2631</td>\n",
       "      <td>1</td>\n",
       "      <td>0.885696</td>\n",
       "      <td>1</td>\n",
       "      <td>no</td>\n",
       "    </tr>\n",
       "    <tr>\n",
       "      <th>2690</th>\n",
       "      <td>user_2691</td>\n",
       "      <td>0</td>\n",
       "      <td>0.188230</td>\n",
       "      <td>0</td>\n",
       "      <td>no</td>\n",
       "    </tr>\n",
       "    <tr>\n",
       "      <th>2190</th>\n",
       "      <td>user_2190</td>\n",
       "      <td>1</td>\n",
       "      <td>0.592965</td>\n",
       "      <td>1</td>\n",
       "      <td>no</td>\n",
       "    </tr>\n",
       "  </tbody>\n",
       "</table>\n",
       "</div>"
      ],
      "text/plain": [
       "        user_id  pet_ownership_label  pet_ownership_label_1  assignment  \\\n",
       "2104  user_2104                    1               0.648977           1   \n",
       "1152  user_1152                    1               0.720075           1   \n",
       "1402  user_1402                    1               0.738217           1   \n",
       "2344  user_2344                    0               0.964265           1   \n",
       "4667  user_4668                    0               0.525121           0   \n",
       "2172  user_2172                    1               0.188230           0   \n",
       "421    user_421                    0               0.188230           0   \n",
       "2631  user_2631                    1               0.885696           1   \n",
       "2690  user_2691                    0               0.188230           0   \n",
       "2190  user_2190                    1               0.592965           1   \n",
       "\n",
       "     if_flipped  \n",
       "2104         no  \n",
       "1152         no  \n",
       "1402         no  \n",
       "2344      0_>_1  \n",
       "4667         no  \n",
       "2172      1_>_0  \n",
       "421          no  \n",
       "2631         no  \n",
       "2690         no  \n",
       "2190         no  "
      ]
     },
     "execution_count": 18,
     "metadata": {},
     "output_type": "execute_result"
    }
   ],
   "source": [
    "# Checking the DF head\n",
    "df_for_optimization_post_optim[['user_id', 'pet_ownership_label', 'pet_ownership_label_1', 'assignment', 'if_flipped']].sample(10).head(10)"
   ]
  },
  {
   "cell_type": "code",
   "execution_count": 19,
   "metadata": {},
   "outputs": [
    {
     "data": {
      "text/plain": [
       "if_flipped\n",
       "no       4183\n",
       "0_>_1     348\n",
       "1_>_0     328\n",
       "Name: count, dtype: int64"
      ]
     },
     "execution_count": 19,
     "metadata": {},
     "output_type": "execute_result"
    }
   ],
   "source": [
    "# Checking the flip statistics\n",
    "df_for_optimization_post_optim['if_flipped'].value_counts()"
   ]
  },
  {
   "cell_type": "code",
   "execution_count": 20,
   "metadata": {},
   "outputs": [
    {
     "data": {
      "text/plain": [
       "assignment\n",
       "1    0.526857\n",
       "0    0.473143\n",
       "Name: proportion, dtype: float64"
      ]
     },
     "execution_count": 20,
     "metadata": {},
     "output_type": "execute_result"
    }
   ],
   "source": [
    "# Original proportion of label = 1 was 52.2%, checking the results after reassignment:\n",
    "df_for_optimization_post_optim['assignment'].value_counts(normalize=True)"
   ]
  },
  {
   "cell_type": "code",
   "execution_count": 21,
   "metadata": {},
   "outputs": [
    {
     "name": "stderr",
     "output_type": "stream",
     "text": [
      "d:\\Program_Files\\Anaconda\\Lib\\site-packages\\seaborn\\axisgrid.py:118: UserWarning: The figure layout has changed to tight\n",
      "  self._figure.tight_layout(*args, **kwargs)\n"
     ]
    },
    {
     "data": {
      "image/png": "[encoded data removed]",
      "text/plain": [
       "<Figure size 500x500 with 1 Axes>"
      ]
     },
     "metadata": {},
     "output_type": "display_data"
    }
   ],
   "source": [
    "# Post-reassignment result is within the instructed +- 0.5 pp bounds\n",
    "\n",
    "# Checking the ownership probabilities of users that were flipped\n",
    "\n",
    "# 0 -> 1\n",
    "df_0_1 = df_for_optimization_post_optim[df_for_optimization_post_optim['if_flipped']== '0_>_1']\n",
    "sns.displot(df_0_1[f'{target_col}_1'])\n",
    "lim = plt.xlim([0,1])\n",
    "ttl = plt.title(f'0 -> 1 flips probability distribution')\n",
    "plt.show()"
   ]
  },
  {
   "cell_type": "code",
   "execution_count": 22,
   "metadata": {},
   "outputs": [
    {
     "name": "stderr",
     "output_type": "stream",
     "text": [
      "d:\\Program_Files\\Anaconda\\Lib\\site-packages\\seaborn\\axisgrid.py:118: UserWarning: The figure layout has changed to tight\n",
      "  self._figure.tight_layout(*args, **kwargs)\n"
     ]
    },
    {
     "data": {
      "image/png": "[encoded data removed]",
      "text/plain": [
       "<Figure size 500x500 with 1 Axes>"
      ]
     },
     "metadata": {},
     "output_type": "display_data"
    }
   ],
   "source": [
    "# As visible above, users that were flipped from self-reported non-owners to owners have high (~70%+) probability to be an owner based on their purchase behavior.\n",
    "\n",
    "# 1 -> 0 \n",
    "df_1_0 = df_for_optimization_post_optim[df_for_optimization_post_optim['if_flipped']== '1_>_0']\n",
    "sns.displot(df_1_0[f'{target_col}_1'])\n",
    "lim = plt.xlim([0,1])\n",
    "ttl = plt.title(f'1 -> 0 flips probability distribution')\n",
    "plt.show()"
   ]
  },
  {
   "cell_type": "code",
   "execution_count": 23,
   "metadata": {},
   "outputs": [],
   "source": [
    "# Similarly, users that were flipped from self-reported owners to non-owners have low (~37% and below) probability to be an owner based on their purchase behavior."
   ]
  },
  {
   "cell_type": "markdown",
   "metadata": {},
   "source": [
    "# Done!\n",
    "## We have successfully reassigned ownership labels based on purchasing behavior with the lowest possible cost while maintaining the original label distribution."
   ]
  }
 ],
 "metadata": {
  "kernelspec": {
   "display_name": "base",
   "language": "python",
   "name": "python3"
  },
  "language_info": {
   "codemirror_mode": {
    "name": "ipython",
    "version": 3
   },
   "file_extension": ".py",
   "mimetype": "text/x-python",
   "name": "python",
   "nbconvert_exporter": "python",
   "pygments_lexer": "ipython3",
   "version": "3.11.5"
  }
 },
 "nbformat": 4,
 "nbformat_minor": 2
}
